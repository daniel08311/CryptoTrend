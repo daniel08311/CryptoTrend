{
 "cells": [
  {
   "cell_type": "code",
   "execution_count": 1,
   "metadata": {},
   "outputs": [],
   "source": [
    "import numpy as np\n",
    "import nltk\n",
    "import pickle\n",
    "import pandas as pd\n",
    "import sys\n",
    "# import keras\n",
    "\n",
    "import os\n",
    "# mingw_path = 'C:\\\\Program Files\\\\mingw-w64\\\\x86_64-7.1.0-posix-seh-rt_v5-rev0\\\\mingw64\\\\bin'\n",
    "# os.environ['PATH'] = mingw_path + ';' + os.environ['PATH']\n",
    "import xgboost as xgb\n",
    "    \n",
    "from sklearn.preprocessing import StandardScaler\n",
    "scaler = StandardScaler()"
   ]
  },
  {
   "cell_type": "code",
   "execution_count": 2,
   "metadata": {},
   "outputs": [
    {
     "name": "stdout",
     "output_type": "stream",
     "text": [
      "class0 = 149\n",
      "class1 = 352\n",
      "class2 = 13946\n",
      "307\n",
      "[[ 59   0  12]\n",
      " [  0 185   9]\n",
      " [  6  10 720]]\n",
      "0.9312510308525267\n"
     ]
    }
   ],
   "source": [
    "exchange = \"binance\"\n",
    "with open('x_train_30m_{}.pickle'.format(exchange), 'rb') as handle:\n",
    "    x_train = pickle.load(handle)\n",
    "        \n",
    "with open('y_train_30m_{}.pickle'.format(exchange), 'rb') as handle:\n",
    "    y_train_trend = pickle.load(handle)\n",
    "\n",
    "for i in range(3):\n",
    "    print(\"class{} = {}\".format(i,sum(y_train_trend==i)))\n",
    "\n",
    "cla_0 = [idx for idx,i in enumerate(y_train_trend) if i == 0]\n",
    "cla_1 = [idx for idx,i in enumerate(y_train_trend) if i == 1]\n",
    "cla_2 = [idx for idx,i in enumerate(y_train_trend) if i == 2]\n",
    "\n",
    "from sklearn.utils import resample\n",
    "cla_2_idx = resample(cla_2, n_samples=1500, random_state=0)\n",
    "\n",
    "x_train = np.vstack((x_train[cla_0],x_train[cla_1],x_train[cla_2_idx]))\n",
    "y_train_trend = np.hstack((y_train_trend[cla_0],y_train_trend[cla_1],y_train_trend[cla_2_idx]))\n",
    "\n",
    "x_train_xgb = x_train.reshape(-1, x_train.shape[1]*x_train.shape[2])\n",
    "from sklearn.model_selection import train_test_split\n",
    "x_train, x_test, y_train_trend, y_test_trend = train_test_split(x_train_xgb, y_train_trend, test_size=0.5, random_state=42)\n",
    "\n",
    "from sklearn.ensemble import RandomForestClassifier\n",
    "from sklearn.metrics import mean_absolute_error, mean_squared_error\n",
    "from sklearn.metrics import confusion_matrix\n",
    "from sklearn.metrics import f1_score\n",
    "rf_30m = RandomForestClassifier(n_estimators=50, max_depth=15, random_state=0, n_jobs=14)\n",
    "rf_30m.fit(x_train, y_train_trend)\n",
    "\n",
    "print(sum(rf_30m.feature_importances_>0.001))\n",
    "print(confusion_matrix(rf_30m.predict(x_test), y_test_trend))\n",
    "print(f1_score(rf_30m.predict(x_test), y_test_trend, average='macro')) "
   ]
  },
  {
   "cell_type": "code",
   "execution_count": null,
   "metadata": {},
   "outputs": [],
   "source": [
    "with open('rf_model_30m_{}.pickle'.format(exchange), 'wb') as handle:\n",
    "    pickle.dump(rf_30m, handle, protocol=pickle.HIGHEST_PROTOCOL)"
   ]
  },
  {
   "cell_type": "code",
   "execution_count": null,
   "metadata": {},
   "outputs": [],
   "source": [
    "with open('x_train_2h_{}.pickle'.format(exchange), 'rb') as handle:\n",
    "    x_train = pickle.load(handle)\n",
    "        \n",
    "with open('y_train_2h_{}.pickle'.format(exchange), 'rb') as handle:\n",
    "    y_train_trend = pickle.load(handle)\n",
    "\n",
    "for i in range(3):\n",
    "    print(\"class{} = {}\".format(i,sum(y_train_trend==i)))\n",
    "    \n",
    "cla_0 = [idx for idx,i in enumerate(y_train_trend) if i == 0]\n",
    "cla_1 = [idx for idx,i in enumerate(y_train_trend) if i == 1]\n",
    "cla_2 = [idx for idx,i in enumerate(y_train_trend) if i == 2]\n",
    "\n",
    "from sklearn.utils import resample\n",
    "cla_2_idx = resample(cla_2, n_samples=1500, random_state=0)\n",
    "\n",
    "x_train = np.vstack((x_train[cla_0],x_train[cla_1],x_train[cla_2_idx]))\n",
    "y_train_trend = np.hstack((y_train_trend[cla_0],y_train_trend[cla_1],y_train_trend[cla_2_idx]))\n",
    "\n",
    "x_train_xgb = x_train.reshape(-1, x_train.shape[1]*x_train.shape[2])\n",
    "from sklearn.model_selection import train_test_split\n",
    "x_train, x_test, y_train_trend, y_test_trend = train_test_split(x_train_xgb, y_train_trend, test_size=0.5, random_state=42)\n",
    "\n",
    "from sklearn.ensemble import RandomForestClassifier\n",
    "from sklearn.metrics import mean_absolute_error, mean_squared_error\n",
    "from sklearn.metrics import confusion_matrix\n",
    "from sklearn.metrics import f1_score\n",
    "rf_2h = RandomForestClassifier(n_estimators=50, max_depth=20, random_state=0, n_jobs=14)\n",
    "rf_2h.fit(x_train, y_train_trend)\n",
    "\n",
    "print(sum(rf_2h.feature_importances_>0.001))\n",
    "print(confusion_matrix(rf_2h.predict(x_test), y_test_trend))\n",
    "print(f1_score(rf_2h.predict(x_test), y_test_trend, average='macro')) "
   ]
  },
  {
   "cell_type": "code",
   "execution_count": null,
   "metadata": {},
   "outputs": [],
   "source": [
    "with open('rf_model_2h_{}.pickle'.format(exchange), 'wb') as handle:\n",
    "    pickle.dump(rf_2h, handle, protocol=pickle.HIGHEST_PROTOCOL)"
   ]
  },
  {
   "cell_type": "markdown",
   "metadata": {
    "scrolled": true
   },
   "source": [
    "## dtrain = xgb.DMatrix(x_train, label=y_train)\n",
    "dtest = xgb.DMatrix(x_test, label=y_test)\n",
    "\n",
    "params = {\"objective\": \"reg:linear\", \"booster\":\"gbtree\", 'max_depth':'2', 'eta':'0.0025', 'subsample':'0.7', 'eval_metric':'mae' , 'verbose':1}\n",
    "params['nthread'] = 3  \n",
    "evallist  = [(dtest,'eval')]\n",
    "num_round = 1500\n",
    "gbm_1 = xgb.train(params, dtrain, num_round, evallist)  "
   ]
  },
  {
   "cell_type": "code",
   "execution_count": null,
   "metadata": {},
   "outputs": [],
   "source": [
    "dtrain = xgb.DMatrix(x_train[:,rf.feature_importances_>0.001], label=y_train_trend)\n",
    "dtest = xgb.DMatrix(x_test[:,rf.feature_importances_>0.001], label=y_test_trend)\n",
    "\n",
    "params = {\"objective\": \"multi:softprob\", \"booster\":\"gbtree\", 'max_depth':'2', 'eta':'0.01', 'subsample':'0.7', 'eval_metric':'mlogloss' , 'verbose':0, 'num_class':3}\n",
    "params['nthread'] = 14\n",
    "evallist  = [(dtest,'eval')]\n",
    "num_round = 2500\n",
    "gbm_1 = xgb.train(params, dtrain, num_round, evallist)  "
   ]
  },
  {
   "cell_type": "code",
   "execution_count": null,
   "metadata": {},
   "outputs": [],
   "source": [
    "xgb_pred_class = gbm_1.predict(dtest)\n",
    "xgb_pred = np.argmax(gbm_1.predict(dtest),axis=1)\n",
    "print(confusion_matrix(xgb_pred, y_test_trend))\n",
    "print(f1_score(xgb_pred, y_test_trend, average='macro')) "
   ]
  },
  {
   "cell_type": "code",
   "execution_count": null,
   "metadata": {},
   "outputs": [],
   "source": [
    "rf_pred_class = rf.predict_proba(x_test)\n",
    "ensemble = np.argmax(xgb_pred_class + rf_pred_class, axis=1)\n",
    "print(confusion_matrix(ensemble, y_test_trend))\n",
    "print(f1_score(ensemble, y_test_trend, average='macro')) "
   ]
  }
 ],
 "metadata": {
  "anaconda-cloud": {},
  "kernelspec": {
   "display_name": "Python 3",
   "language": "python",
   "name": "python3"
  },
  "language_info": {
   "codemirror_mode": {
    "name": "ipython",
    "version": 3
   },
   "file_extension": ".py",
   "mimetype": "text/x-python",
   "name": "python",
   "nbconvert_exporter": "python",
   "pygments_lexer": "ipython3",
   "version": "3.6.5"
  }
 },
 "nbformat": 4,
 "nbformat_minor": 1
}
