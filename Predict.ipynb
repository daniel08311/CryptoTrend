{
 "cells": [
  {
   "cell_type": "code",
   "execution_count": null,
   "metadata": {},
   "outputs": [],
   "source": [
    "import pickle\n",
    "import pandas as pd\n",
    "import sys\n",
    "\n",
    "# EXCHANGE_NAME = sys.argv[1]\n",
    "EXCHANGE_NAME = \"binance\"\n",
    "MODEL_30M = 'rf_model_30m_{}.pickle'.format(EXCHANGE_NAME)\n",
    "MODEL_2H = 'rf_model_2h_{}.pickle'.format(EXCHANGE_NAME)\n",
    "CURRENT_DATA_2H = 'last_2h_{}.pickle'.format(EXCHANGE_NAME)\n",
    "CURRENT_DATA_30M = 'last_30m_{}.pickle'.format(EXCHANGE_NAME)\n",
    "SHIFT = 50\n",
    "        \n",
    "with open(MODEL_30M, 'rb') as handle:\n",
    "     RF_30m = pickle.load(handle)\n",
    "        \n",
    "with open(MODEL_2H, 'rb') as handle:\n",
    "     RF_2H = pickle.load(handle)\n",
    "\n",
    "with open(CURRENT_DATA_30M, 'rb') as handle:\n",
    "     last_30m = pickle.load(handle)\n",
    "\n",
    "with open(CURRENT_DATA_2H, 'rb') as handle:\n",
    "     last_2h = pickle.load(handle)"
   ]
  },
  {
   "cell_type": "code",
   "execution_count": null,
   "metadata": {},
   "outputs": [],
   "source": [
    "P_30 = RF_30m.predict_proba(last_30m)[0]\n",
    "P_120 = RF_2H.predict_proba(last_2h)[0]"
   ]
  },
  {
   "cell_type": "code",
   "execution_count": null,
   "metadata": {},
   "outputs": [],
   "source": [
    "print(\"30-Minute Prediction:\")\n",
    "print(\"BULL : {}, BEAR : {}, NEUTRAL : {}\".format(P_30[0], P_30[1], P_30[2]))"
   ]
  },
  {
   "cell_type": "code",
   "execution_count": null,
   "metadata": {},
   "outputs": [],
   "source": [
    "print(\"2-Hour Prediction:\")\n",
    "print(\"BULL : {}, BEAR : {}, NEUTRAL : {}\".format(P_120[0], P_120[1], P_120[2]))"
   ]
  },
  {
   "cell_type": "code",
   "execution_count": null,
   "metadata": {},
   "outputs": [],
   "source": []
  },
  {
   "cell_type": "code",
   "execution_count": null,
   "metadata": {},
   "outputs": [],
   "source": []
  }
 ],
 "metadata": {
  "kernelspec": {
   "display_name": "Python 3",
   "language": "python",
   "name": "python3"
  },
  "language_info": {
   "codemirror_mode": {
    "name": "ipython",
    "version": 3
   },
   "file_extension": ".py",
   "mimetype": "text/x-python",
   "name": "python",
   "nbconvert_exporter": "python",
   "pygments_lexer": "ipython3",
   "version": "3.5.2"
  }
 },
 "nbformat": 4,
 "nbformat_minor": 2
}
