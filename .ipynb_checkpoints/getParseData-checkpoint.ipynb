{
 "cells": [
  {
   "cell_type": "code",
   "execution_count": 27,
   "metadata": {},
   "outputs": [],
   "source": [
    "import requests\n",
    "import pandas as pd\n",
    "import numpy as np\n",
    "import pickle\n",
    "import _thread"
   ]
  },
  {
   "cell_type": "code",
   "execution_count": 28,
   "metadata": {},
   "outputs": [],
   "source": [
    "EXCHANGES = ['binance', 'bitfinex', 'bittrex', 'huobipro']"
   ]
  },
  {
   "cell_type": "code",
   "execution_count": 29,
   "metadata": {},
   "outputs": [],
   "source": [
    "def get_data(exchange):\n",
    "    res = requests.get(\"http://jumpin.cc/BTC/WhaleSignalETH/training_data_{}_log.txt\".format(exchange))\n",
    "    f = open(\"eth_{}.csv\".format(exchange),\"w\")\n",
    "    f.write(res.text)\n",
    "    f.close()\n",
    "    print(\"write complete\")\n",
    "    return (True)"
   ]
  },
  {
   "cell_type": "code",
   "execution_count": 30,
   "metadata": {},
   "outputs": [
    {
     "name": "stdout",
     "output_type": "stream",
     "text": [
      "write complete\n",
      "write complete\n",
      "write complete\n",
      "write complete\n",
      "write complete\n",
      "write complete\n",
      "write complete\n",
      "write complete\n",
      "write complete\n",
      "write complete\n",
      "write complete\n",
      "write complete\n",
      "write complete\n",
      "write complete\n",
      "write complete\n"
     ]
    }
   ],
   "source": [
    "for exchange in EXCHANGES:\n",
    "    _thread.start_new_thread( get_data, (EXCHANGES[0],) )\n",
    "    _thread.start_new_thread( get_data, (EXCHANGES[1],) )\n",
    "    _thread.start_new_thread( get_data, (EXCHANGES[2],) )\n",
    "    _thread.start_new_thread( get_data, (EXCHANGES[3],) )"
   ]
  },
  {
   "cell_type": "code",
   "execution_count": 26,
   "metadata": {},
   "outputs": [
    {
     "name": "stdout",
     "output_type": "stream",
     "text": [
      "write complete\n",
      "write complete\n",
      "write complete\n",
      "write complete\n",
      "write complete\n",
      "write complete\n",
      "write complete\n",
      "write complete\n",
      "write complete\n",
      "write complete\n",
      "write complete\n",
      "hi\n",
      "hi\n",
      "hi\n",
      "hi\n",
      "write complete\n",
      "write complete\n",
      "write complete\n",
      "write complete\n",
      "write complete\n"
     ]
    }
   ],
   "source": [
    "try:\n",
    "    _thread.start_new_thread( parse, (EXCHANGES[0],) )\n",
    "    _thread.start_new_thread( parse, (EXCHANGES[1],) )\n",
    "    _thread.start_new_thread( parse, (EXCHANGES[2],) )\n",
    "    _thread.start_new_thread( parse, (EXCHANGES[3],) )\n",
    "except:\n",
    "    print(e)\n",
    "    pass\n",
    "#     _thread.start_new_thread( parse, (\"Thread-2\", ) )"
   ]
  },
  {
   "cell_type": "code",
   "execution_count": 6,
   "metadata": {},
   "outputs": [],
   "source": [
    "# for exchange in EXCHANGES:\n",
    "def parse(exchange):\n",
    "    train_df = pd.read_csv(\"eth_{}.csv\".format(exchange))\n",
    "    train_df = train_df.dropna()\n",
    "\n",
    "    y_raw = train_df[\"ohlcv_close\"].values\n",
    "    x_raw = train_df.drop(['time', 'last_price', 'ohlcv_close'], axis=1).values\n",
    "\n",
    "    log_count = len(y_raw)\n",
    "    feats = len(x_raw[0])\n",
    "    shift = 300\n",
    "    shift_y = 200\n",
    "    x_train_2h = np.zeros((log_count-shift-shift_y,shift,feats))\n",
    "    y_train_trend_2h = np.zeros(log_count-shift-shift_y)\n",
    "    last_2h = x_raw[-shift:].reshape((1, x_raw[-shift:].shape[0], x_raw[-shift:].shape[1]))\n",
    "    last_2h = last_2h.reshape(-1, last_2h.shape[1]*last_2h.shape[2])\n",
    "    \n",
    "    for i in range(log_count-shift_y-shift):\n",
    "        x_train_2h[i] = x_raw[i:i+shift]\n",
    "        diff = y_raw[i+shift+shift_y]-y_raw[i+shift]\n",
    "        if diff/y_raw[i+shift] > 0.01 :\n",
    "            y_train_trend_2h[i] = 0\n",
    "\n",
    "        elif diff/y_raw[i+shift] < -0.01:\n",
    "            y_train_trend_2h[i] = 1\n",
    "\n",
    "        else:\n",
    "            y_train_trend_2h[i] = 2\n",
    "    \n",
    "    log_count = len(y_raw)\n",
    "    feats = len(x_raw[0])\n",
    "    shift = 200\n",
    "    shift_y = 50\n",
    "    x_train_30m = np.zeros((log_count-shift-shift_y,shift,feats))\n",
    "    y_train_trend_30m = np.zeros(log_count-shift-shift_y)\n",
    "    last_30m = x_raw[-shift:].reshape((1, x_raw[-shift:].shape[0], x_raw[-shift:].shape[1]))\n",
    "    last_30m = last_30m.reshape(-1, last_30m.shape[1]*last_30m.shape[2])\n",
    "    \n",
    "    for i in range(log_count-shift_y-shift):\n",
    "        x_train_30m[i] = x_raw[i:i+shift]\n",
    "        diff = y_raw[i+shift+shift_y]-y_raw[i+shift]\n",
    "        if diff/y_raw[i+shift] > 0.01 :\n",
    "            y_train_trend_30m[i] = 0\n",
    "\n",
    "        elif diff/y_raw[i+shift] < -0.01:\n",
    "            y_train_trend_30m[i] = 1\n",
    "\n",
    "        else:\n",
    "            y_train_trend_30m[i] = 2\n",
    "            \n",
    "    with open('x_train_2h_{}.pickle'.format(exchange), 'wb') as handle:\n",
    "        pickle.dump(x_train_2h, handle, protocol=pickle.HIGHEST_PROTOCOL)\n",
    "        \n",
    "    with open('y_train_2h_{}.pickle'.format(exchange), 'wb') as handle:\n",
    "        pickle.dump(y_train_trend_2h, handle, protocol=pickle.HIGHEST_PROTOCOL)\n",
    "        \n",
    "    with open('x_train_30m_{}.pickle'.format(exchange), 'wb') as handle:\n",
    "        pickle.dump(x_train_30m, handle, protocol=pickle.HIGHEST_PROTOCOL)\n",
    "        \n",
    "    with open('y_train_30m_{}.pickle'.format(exchange), 'wb') as handle:\n",
    "        pickle.dump(y_train_trend_30m, handle, protocol=pickle.HIGHEST_PROTOCOL)\n",
    "        \n",
    "    with open('last_2h_{}.pickle'.format(exchange), 'wb') as handle:\n",
    "        pickle.dump(last_2h, handle, protocol=pickle.HIGHEST_PROTOCOL)\n",
    "    \n",
    "    with open('last_30m_{}.pickle'.format(exchange), 'wb') as handle:\n",
    "        pickle.dump(last_30m, handle, protocol=pickle.HIGHEST_PROTOCOL)\n",
    "    print(\"parse complete\")\n",
    "    return (True)"
   ]
  },
  {
   "cell_type": "code",
   "execution_count": null,
   "metadata": {},
   "outputs": [],
   "source": []
  }
 ],
 "metadata": {
  "kernelspec": {
   "display_name": "Python 3",
   "language": "python",
   "name": "python3"
  },
  "language_info": {
   "codemirror_mode": {
    "name": "ipython",
    "version": 3
   },
   "file_extension": ".py",
   "mimetype": "text/x-python",
   "name": "python",
   "nbconvert_exporter": "python",
   "pygments_lexer": "ipython3",
   "version": "3.5.2"
  }
 },
 "nbformat": 4,
 "nbformat_minor": 2
}
